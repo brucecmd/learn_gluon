{
  "nbformat": 4,
  "nbformat_minor": 0,
  "metadata": {
    "colab": {
      "name": "gluon_practice_create_mlp.ipynb",
      "version": "0.3.2",
      "provenance": [],
      "collapsed_sections": [],
      "include_colab_link": true
    },
    "kernelspec": {
      "name": "python3",
      "display_name": "Python 3"
    }
  },
  "cells": [
    {
      "cell_type": "markdown",
      "metadata": {
        "id": "view-in-github",
        "colab_type": "text"
      },
      "source": [
        "[View in Colaboratory](https://colab.research.google.com/github/brucecmd/learn_gluon/blob/master/gluon_practice_create_mlp.ipynb)"
      ]
    },
    {
      "metadata": {
        "id": "O3wnEgiteQ2z",
        "colab_type": "code",
        "colab": {}
      },
      "cell_type": "code",
      "source": [
        "from mxnet.gluon import nn\n",
        "from mxnet import nd"
      ],
      "execution_count": 0,
      "outputs": []
    },
    {
      "metadata": {
        "id": "WAh7WRYteUPc",
        "colab_type": "code",
        "colab": {}
      },
      "cell_type": "code",
      "source": [
        "# 可以利用继承Block的方式，自己定义一个MLP方法，而不用是Sequential的那个\n",
        "class MLP(nn.Block):\n",
        "    pass\n",
        "    def __init__(self, **kwargs):\n",
        "        super(MLP,self).__init__(**kwargs)\n",
        "        self.hidden = nn.Dense(256, activation='relu')\n",
        "        self.output = nn.Dense(10)\n",
        "    \n",
        "    def forward(self, x):\n",
        "        return self.output(self.hidden(x))"
      ],
      "execution_count": 0,
      "outputs": []
    },
    {
      "metadata": {
        "id": "O1fiBJfMezI7",
        "colab_type": "code",
        "colab": {}
      },
      "cell_type": "code",
      "source": [
        "from mxnet.gluon import data as gdata\n",
        "from mxnet.gluon import loss as gloss\n",
        "from mxnet import gluon,autograd"
      ],
      "execution_count": 0,
      "outputs": []
    },
    {
      "metadata": {
        "id": "usE26QHXe5ya",
        "colab_type": "code",
        "colab": {}
      },
      "cell_type": "code",
      "source": [
        "mnist_train = gdata.vision.FashionMNIST(train=True)\n",
        "mnist_test = gdata.vision.FashionMNIST(train=False)"
      ],
      "execution_count": 0,
      "outputs": []
    },
    {
      "metadata": {
        "id": "P20zF_xLfDeD",
        "colab_type": "code",
        "colab": {}
      },
      "cell_type": "code",
      "source": [
        "batch_size = 256\n",
        "transformer = gdata.vision.transforms.ToTensor()\n",
        "train_iter = gdata.DataLoader(mnist_train.transform_first(transformer), batch_size, shuffle=True)\n",
        "test_iter = gdata.DataLoader(mnist_test.transform_first(transformer), batch_size, shuffle=True)"
      ],
      "execution_count": 0,
      "outputs": []
    },
    {
      "metadata": {
        "id": "bGCrekDxfdJE",
        "colab_type": "code",
        "colab": {}
      },
      "cell_type": "code",
      "source": [
        "net = MLP()\n",
        "net.initialize()"
      ],
      "execution_count": 0,
      "outputs": []
    },
    {
      "metadata": {
        "id": "toqaKnyAfvE7",
        "colab_type": "code",
        "colab": {}
      },
      "cell_type": "code",
      "source": [
        "loss_func = gloss.SoftmaxCrossEntropyLoss()"
      ],
      "execution_count": 0,
      "outputs": []
    },
    {
      "metadata": {
        "id": "6aB6D-ANf-yU",
        "colab_type": "code",
        "colab": {}
      },
      "cell_type": "code",
      "source": [
        "trainer = gluon.Trainer(net.collect_params(), 'sgd', {'learning_rate':0.1})"
      ],
      "execution_count": 0,
      "outputs": []
    },
    {
      "metadata": {
        "id": "GEsLUSojgHPM",
        "colab_type": "code",
        "colab": {}
      },
      "cell_type": "code",
      "source": [
        "def accuracy(y_hat, y):\n",
        "    return (y_hat.argmax(axis=1)==y.astype('float32')).mean().asscalar()\n",
        "  \n",
        "def estimate_accuracy(data_iter, net):\n",
        "    total_acc = 0\n",
        "    for data, label in data_iter:\n",
        "        y_hat = net(data)\n",
        "        acc = accuracy(y_hat, label)\n",
        "        total_acc += acc\n",
        "    return total_acc / len(data_iter)"
      ],
      "execution_count": 0,
      "outputs": []
    },
    {
      "metadata": {
        "id": "gY3_I9JmgdT1",
        "colab_type": "code",
        "colab": {
          "base_uri": "https://localhost:8080/",
          "height": 185
        },
        "outputId": "361e392b-9d2a-4be4-a384-77cbc66ca66f"
      },
      "cell_type": "code",
      "source": [
        "epochs = 10\n",
        "batch_size = 256\n",
        "for i in range(epochs):\n",
        "    for data, label in train_iter:\n",
        "        with autograd.record():\n",
        "            y_hat = net(data)\n",
        "            l = loss_func(y_hat, label)\n",
        "        l.backward()\n",
        "        trainer.step(batch_size)\n",
        "    train_acc = estimate_accuracy(train_iter, net)\n",
        "    test_acc = estimate_accuracy(test_iter, net)\n",
        "    print('epoch[%d], train acc[%f], test acc[%f]'%(i, train_acc, test_acc))"
      ],
      "execution_count": 155,
      "outputs": [
        {
          "output_type": "stream",
          "text": [
            "epoch[0], train acc[0.805358], test acc[0.802637]\n",
            "epoch[1], train acc[0.829915], test acc[0.831836]\n",
            "epoch[2], train acc[0.841146], test acc[0.844238]\n",
            "epoch[3], train acc[0.849983], test acc[0.848242]\n",
            "epoch[4], train acc[0.855785], test acc[0.855469]\n",
            "epoch[5], train acc[0.856970], test acc[0.855078]\n",
            "epoch[6], train acc[0.863641], test acc[0.859082]\n",
            "epoch[7], train acc[0.868096], test acc[0.862891]\n",
            "epoch[8], train acc[0.874485], test acc[0.871875]\n",
            "epoch[9], train acc[0.873914], test acc[0.866016]\n"
          ],
          "name": "stdout"
        }
      ]
    },
    {
      "metadata": {
        "id": "Lz8iJ_Rng5TG",
        "colab_type": "code",
        "colab": {}
      },
      "cell_type": "code",
      "source": [
        ""
      ],
      "execution_count": 0,
      "outputs": []
    }
  ]
}