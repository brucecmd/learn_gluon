{
  "nbformat": 4,
  "nbformat_minor": 0,
  "metadata": {
    "colab": {
      "name": "multi_layer_perceptron_gluon.ipynb",
      "version": "0.3.2",
      "provenance": [],
      "collapsed_sections": [],
      "include_colab_link": true
    },
    "kernelspec": {
      "name": "python3",
      "display_name": "Python 3"
    },
    "accelerator": "GPU"
  },
  "cells": [
    {
      "cell_type": "markdown",
      "metadata": {
        "id": "view-in-github",
        "colab_type": "text"
      },
      "source": [
        "[View in Colaboratory](https://colab.research.google.com/github/brucecmd/learn_gluon/blob/master/multi_layer_perceptron_gluon.ipynb)"
      ]
    },
    {
      "metadata": {
        "id": "8alMG4Tw52vF",
        "colab_type": "code",
        "colab": {}
      },
      "cell_type": "code",
      "source": [
        "from mxnet.gluon import data as gdata\n",
        "from mxnet.gluon import loss as gloss\n",
        "from mxnet import gluon, nd, autograd\n",
        "from mxnet.gluon import nn\n",
        "from mxnet import init"
      ],
      "execution_count": 0,
      "outputs": []
    },
    {
      "metadata": {
        "id": "ITmx5tWIl9K3",
        "colab_type": "code",
        "colab": {}
      },
      "cell_type": "code",
      "source": [
        "mnist_train = gdata.vision.FashionMNIST(train=True)\n",
        "mnist_test = gdata.vision.FashionMNIST(train=False)"
      ],
      "execution_count": 0,
      "outputs": []
    },
    {
      "metadata": {
        "id": "GwyJYSikmGnd",
        "colab_type": "code",
        "colab": {}
      },
      "cell_type": "code",
      "source": [
        "batch_size = 256\n",
        "transformer = gdata.vision.transforms.ToTensor()\n",
        "train_iter = gdata.DataLoader(mnist_train.transform_first(transformer), batch_size, shuffle=True)\n",
        "test_iter = gdata.DataLoader(mnist_test.transform_first(transformer), batch_size, shuffle=True)"
      ],
      "execution_count": 0,
      "outputs": []
    },
    {
      "metadata": {
        "id": "6iOAjegTnIvG",
        "colab_type": "code",
        "colab": {}
      },
      "cell_type": "code",
      "source": [
        "\n",
        "net = nn.Sequential()\n",
        "#net.add(nn.Flatten())\n",
        "net.add(nn.Dense(256, activation='relu')) # attention, activation is in Dense area\n",
        "net.add(nn.Dense(10))"
      ],
      "execution_count": 0,
      "outputs": []
    },
    {
      "metadata": {
        "id": "0IdeetnJpPTu",
        "colab_type": "code",
        "colab": {}
      },
      "cell_type": "code",
      "source": [
        "net.initialize(init.Normal(sigma=0.1))"
      ],
      "execution_count": 0,
      "outputs": []
    },
    {
      "metadata": {
        "id": "wfkqt05ppjec",
        "colab_type": "code",
        "colab": {}
      },
      "cell_type": "code",
      "source": [
        "loss_func = gloss.SoftmaxCrossEntropyLoss()"
      ],
      "execution_count": 0,
      "outputs": []
    },
    {
      "metadata": {
        "id": "oIjRvdKhppW1",
        "colab_type": "code",
        "colab": {}
      },
      "cell_type": "code",
      "source": [
        "trainer = gluon.Trainer(net.collect_params(), 'sgd', {'learning_rate':0.01})"
      ],
      "execution_count": 0,
      "outputs": []
    },
    {
      "metadata": {
        "id": "oNyiwgSxp0gN",
        "colab_type": "code",
        "colab": {}
      },
      "cell_type": "code",
      "source": [
        "def accuracy(y, y_hat):\n",
        "    return (y_hat.argmax(axis=1)==y.astype('float32')).mean().asscalar()"
      ],
      "execution_count": 0,
      "outputs": []
    },
    {
      "metadata": {
        "id": "drlqEUrwqBUa",
        "colab_type": "code",
        "colab": {}
      },
      "cell_type": "code",
      "source": [
        "def estimate_accuracy(data_iter, net):\n",
        "    total_acc = 0\n",
        "    for data, label in data_iter:\n",
        "        y_hat = net(data)\n",
        "        acc = accuracy(label, y_hat)\n",
        "        total_acc += acc\n",
        "    return total_acc / len(data_iter)"
      ],
      "execution_count": 0,
      "outputs": []
    },
    {
      "metadata": {
        "id": "UqXWZmN3qkmV",
        "colab_type": "code",
        "colab": {
          "base_uri": "https://localhost:8080/",
          "height": 187
        },
        "outputId": "3e070bab-01cc-4786-be6f-d91b2cc91112"
      },
      "cell_type": "code",
      "source": [
        "epochs = 10\n",
        "lr = 0.01\n",
        "batch_size = 256\n",
        "for i in range(epochs):\n",
        "    for data, label in train_iter:\n",
        "        with autograd.record():\n",
        "            y_hat = net(data)\n",
        "            l = loss_func(y_hat, label)\n",
        "        l.backward()\n",
        "        trainer.step(batch_size)  # do not forget this step\n",
        "    train_acc = estimate_accuracy(train_iter, net)\n",
        "    test_acc = estimate_accuracy(test_iter, net)\n",
        "    print('epoch[%d], train acc[%f], test acc[%f]'%(i, train_acc, test_acc))\n",
        "        "
      ],
      "execution_count": 125,
      "outputs": [
        {
          "output_type": "stream",
          "text": [
            "epoch[0], train acc[0.729959], test acc[0.728613]\n",
            "epoch[1], train acc[0.770257], test acc[0.772168]\n",
            "epoch[2], train acc[0.791185], test acc[0.788770]\n",
            "epoch[3], train acc[0.803269], test acc[0.800000]\n",
            "epoch[4], train acc[0.810561], test acc[0.807520]\n",
            "epoch[5], train acc[0.815996], test acc[0.813281]\n",
            "epoch[6], train acc[0.820761], test acc[0.822266]\n",
            "epoch[7], train acc[0.823875], test acc[0.823730]\n",
            "epoch[8], train acc[0.827094], test acc[0.828418]\n",
            "epoch[9], train acc[0.829039], test acc[0.829297]\n"
          ],
          "name": "stdout"
        }
      ]
    },
    {
      "metadata": {
        "id": "VVYI-AXXw58P",
        "colab_type": "code",
        "colab": {}
      },
      "cell_type": "code",
      "source": [
        ""
      ],
      "execution_count": 0,
      "outputs": []
    },
    {
      "metadata": {
        "id": "GzmfuuMtrcC0",
        "colab_type": "code",
        "colab": {}
      },
      "cell_type": "code",
      "source": [
        ""
      ],
      "execution_count": 0,
      "outputs": []
    }
  ]
}