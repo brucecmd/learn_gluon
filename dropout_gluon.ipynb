{
  "nbformat": 4,
  "nbformat_minor": 0,
  "metadata": {
    "colab": {
      "name": "dropout_gluon.ipynb",
      "version": "0.3.2",
      "provenance": [],
      "collapsed_sections": [],
      "include_colab_link": true
    },
    "kernelspec": {
      "name": "python3",
      "display_name": "Python 3"
    }
  },
  "cells": [
    {
      "cell_type": "markdown",
      "metadata": {
        "id": "view-in-github",
        "colab_type": "text"
      },
      "source": [
        "[View in Colaboratory](https://colab.research.google.com/github/brucecmd/learn_gluon/blob/master/dropout_gluon.ipynb)"
      ]
    },
    {
      "metadata": {
        "id": "b6akSwIqB0_4",
        "colab_type": "code",
        "colab": {}
      },
      "cell_type": "code",
      "source": [
        "from mxnet.gluon import data as gdata\n",
        "from mxnet.gluon import loss as gloss\n",
        "from mxnet import nd, autograd, gluon\n",
        "from mxnet.gluon import nn\n",
        "from mxnet import init"
      ],
      "execution_count": 0,
      "outputs": []
    },
    {
      "metadata": {
        "id": "8NjpsaZwB9EP",
        "colab_type": "code",
        "colab": {}
      },
      "cell_type": "code",
      "source": [
        "mnist_train = gdata.vision.FashionMNIST(train=True)\n",
        "mnist_test = gdata.vision.FashionMNIST(train=False)"
      ],
      "execution_count": 0,
      "outputs": []
    },
    {
      "metadata": {
        "id": "eUpBpylPCGIf",
        "colab_type": "code",
        "colab": {}
      },
      "cell_type": "code",
      "source": [
        "batch_size = 256\n",
        "transformer = gdata.vision.transforms.ToTensor()\n",
        "train_iter = gdata.DataLoader(mnist_train.transform_first(transformer), batch_size, shuffle=True)\n",
        "test_iter = gdata.DataLoader(mnist_test.transform_first(transformer), batch_size, shuffle=True)"
      ],
      "execution_count": 0,
      "outputs": []
    },
    {
      "metadata": {
        "id": "hgIiDxTUDdL8",
        "colab_type": "code",
        "colab": {}
      },
      "cell_type": "code",
      "source": [
        "loss_func = gloss.SoftmaxCrossEntropyLoss()"
      ],
      "execution_count": 0,
      "outputs": []
    },
    {
      "metadata": {
        "id": "K-rq8ZISCg8o",
        "colab_type": "code",
        "colab": {}
      },
      "cell_type": "code",
      "source": [
        "# 先不管模型结构合不合理，先让模型复杂起来，这样才能看出来是不是dropout有用\n",
        "\n",
        "# 有时候模型的不合理，会导致模型一直训不出来，一直没法优化。就像上面256下加一个128，再用下面的64，就会出现这种情况。\n",
        "\n",
        "\n",
        "# 不带dropout的版本\n",
        "#net = nn.Sequential()\n",
        "#net.add(nn.Flatten())\n",
        "#net.add(nn.Dense(256))\n",
        "#net.add(nn.Dense(256))\n",
        "#net.add(nn.Dense(64))\n",
        "#net.add(nn.Dense(10))\n",
        "\n",
        "\n",
        "# 带dropout的版本\n",
        "net = nn.Sequential()\n",
        "net.add(nn.Flatten())\n",
        "net.add(nn.Dense(256, activation='relu'))\n",
        "drop_prob1 = 0.5\n",
        "net.add(nn.Dropout(drop_prob1))\n",
        "net.add(nn.Dense(256, activation='relu'))\n",
        "drop_prob2 = 0.3\n",
        "net.add(nn.Dropout(drop_prob2))\n",
        "net.add(nn.Dense(64, activation='relu'))\n",
        "net.add(nn.Dense(10))\n",
        "\n",
        "net.initialize(init.Normal(sigma=0.01))"
      ],
      "execution_count": 0,
      "outputs": []
    },
    {
      "metadata": {
        "id": "7NSPbkGWbDkS",
        "colab_type": "code",
        "colab": {}
      },
      "cell_type": "code",
      "source": [
        "trainer = gluon.Trainer(net.collect_params(), 'sgd', {'learning_rate':0.1})"
      ],
      "execution_count": 0,
      "outputs": []
    },
    {
      "metadata": {
        "id": "3eeROqRbbTQk",
        "colab_type": "code",
        "colab": {}
      },
      "cell_type": "code",
      "source": [
        "def accuracy(y_hat, y):\n",
        "    return (y_hat.argmax(axis=1)==y.astype('float32')).mean().asscalar()\n",
        "  \n",
        "def estimate_accuracy(data_iter, net):\n",
        "    total_acc = 0\n",
        "    for data, label in data_iter:\n",
        "        y_hat = net(data)\n",
        "        acc = accuracy(y_hat, label)\n",
        "        total_acc += acc\n",
        "    return total_acc / len(data_iter)"
      ],
      "execution_count": 0,
      "outputs": []
    },
    {
      "metadata": {
        "id": "ldtP4EZEbz6H",
        "colab_type": "code",
        "colab": {
          "base_uri": "https://localhost:8080/",
          "height": 353
        },
        "outputId": "1f53b2c6-13f3-490f-f775-332e6e518322"
      },
      "cell_type": "code",
      "source": [
        "epochs = 20\n",
        "lr = 0.1\n",
        "batch_size = 256\n",
        "\n",
        "for i in range(epochs):\n",
        "    for data, label in train_iter:\n",
        "        with autograd.record():\n",
        "            y_hat = net(data)\n",
        "            l = loss_func(y_hat, label)\n",
        "        l.backward()\n",
        "        trainer.step(batch_size)\n",
        "    train_acc = estimate_accuracy(train_iter, net)\n",
        "    test_acc = estimate_accuracy(test_iter, net)\n",
        "    print('epoch[%d], train acc[%f], test acc[%f]'%(i,train_acc,test_acc))"
      ],
      "execution_count": 129,
      "outputs": [
        {
          "output_type": "stream",
          "text": [
            "epoch[0], train acc[0.105491], test acc[0.105664]\n",
            "epoch[1], train acc[0.169886], test acc[0.173633]\n",
            "epoch[2], train acc[0.219105], test acc[0.220996]\n",
            "epoch[3], train acc[0.486303], test acc[0.487891]\n",
            "epoch[4], train acc[0.584852], test acc[0.579395]\n",
            "epoch[5], train acc[0.750609], test acc[0.756348]\n",
            "epoch[6], train acc[0.760871], test acc[0.758008]\n",
            "epoch[7], train acc[0.789478], test acc[0.789062]\n",
            "epoch[8], train acc[0.801042], test acc[0.795703]\n",
            "epoch[9], train acc[0.814716], test acc[0.815820]\n",
            "epoch[10], train acc[0.823543], test acc[0.826074]\n",
            "epoch[11], train acc[0.840204], test acc[0.834375]\n",
            "epoch[12], train acc[0.835428], test acc[0.833594]\n",
            "epoch[13], train acc[0.853059], test acc[0.846680]\n",
            "epoch[14], train acc[0.859929], test acc[0.859766]\n",
            "epoch[15], train acc[0.866977], test acc[0.861816]\n",
            "epoch[16], train acc[0.869642], test acc[0.866211]\n",
            "epoch[17], train acc[0.872828], test acc[0.869238]\n",
            "epoch[18], train acc[0.871936], test acc[0.868848]\n",
            "epoch[19], train acc[0.879266], test acc[0.871289]\n"
          ],
          "name": "stdout"
        }
      ]
    },
    {
      "metadata": {
        "id": "Zs3lVgagh6bL",
        "colab_type": "code",
        "colab": {}
      },
      "cell_type": "code",
      "source": [
        ""
      ],
      "execution_count": 0,
      "outputs": []
    }
  ]
}