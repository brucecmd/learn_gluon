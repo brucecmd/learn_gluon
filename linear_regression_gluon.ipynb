{
  "nbformat": 4,
  "nbformat_minor": 0,
  "metadata": {
    "colab": {
      "name": "linear_regression_gluon.ipynb",
      "version": "0.3.2",
      "provenance": [],
      "include_colab_link": true
    },
    "kernelspec": {
      "name": "python3",
      "display_name": "Python 3"
    },
    "accelerator": "GPU"
  },
  "cells": [
    {
      "cell_type": "markdown",
      "metadata": {
        "id": "view-in-github",
        "colab_type": "text"
      },
      "source": [
        "[View in Colaboratory](https://colab.research.google.com/github/brucecmd/learn_gluon/blob/master/linear_regression_gluon.ipynb)"
      ]
    },
    {
      "metadata": {
        "id": "svkr97zZ5-78",
        "colab_type": "code",
        "colab": {}
      },
      "cell_type": "code",
      "source": [
        "from mxnet.gluon import data as gdata\n",
        "from mxnet import nd, autograd"
      ],
      "execution_count": 0,
      "outputs": []
    },
    {
      "metadata": {
        "id": "yqK9KLSW0OwF",
        "colab_type": "code",
        "colab": {}
      },
      "cell_type": "code",
      "source": [
        "num_examples = 1000\n",
        "num_inputs = 2\n",
        "X = nd.random_normal(0,1,shape=(num_examples, num_inputs))\n",
        "true_w = [-3.3, 2.8]\n",
        "true_b = 2.5\n",
        "y = true_w[0] * X[:,0] + true_w[1]*X[:,1] + true_b\n",
        "y += nd.random_normal(0,0.01,shape=y.shape)"
      ],
      "execution_count": 0,
      "outputs": []
    },
    {
      "metadata": {
        "id": "HgczfS3S0t5q",
        "colab_type": "code",
        "colab": {}
      },
      "cell_type": "code",
      "source": [
        "batch_size = 10\n",
        "dataset = gdata.ArrayDataset(X, y)\n",
        "data_iter = gdata.DataLoader(dataset,batch_size,shuffle=True )"
      ],
      "execution_count": 0,
      "outputs": []
    },
    {
      "metadata": {
        "id": "hDRHj7v-1KSo",
        "colab_type": "code",
        "colab": {}
      },
      "cell_type": "code",
      "source": [
        "from mxnet.gluon import nn\n"
      ],
      "execution_count": 0,
      "outputs": []
    },
    {
      "metadata": {
        "id": "ZDLm3O2O1Qdp",
        "colab_type": "code",
        "colab": {}
      },
      "cell_type": "code",
      "source": [
        "net = nn.Sequential()\n",
        "net.add(nn.Dense(1))"
      ],
      "execution_count": 0,
      "outputs": []
    },
    {
      "metadata": {
        "id": "AkYCZta01qcC",
        "colab_type": "code",
        "colab": {}
      },
      "cell_type": "code",
      "source": [
        "from mxnet import init"
      ],
      "execution_count": 0,
      "outputs": []
    },
    {
      "metadata": {
        "id": "_52NnYNH1xH0",
        "colab_type": "code",
        "colab": {}
      },
      "cell_type": "code",
      "source": [
        "net.initialize(init.Normal(sigma=0.01))"
      ],
      "execution_count": 0,
      "outputs": []
    },
    {
      "metadata": {
        "id": "rc8pSDHN19aW",
        "colab_type": "code",
        "colab": {}
      },
      "cell_type": "code",
      "source": [
        "from mxnet.gluon import loss as gloss"
      ],
      "execution_count": 0,
      "outputs": []
    },
    {
      "metadata": {
        "id": "3JilhNMR2DU5",
        "colab_type": "code",
        "colab": {}
      },
      "cell_type": "code",
      "source": [
        "loss = gloss.L2Loss()"
      ],
      "execution_count": 0,
      "outputs": []
    },
    {
      "metadata": {
        "id": "i56QT69y2Hfm",
        "colab_type": "code",
        "colab": {}
      },
      "cell_type": "code",
      "source": [
        "from mxnet import gluon"
      ],
      "execution_count": 0,
      "outputs": []
    },
    {
      "metadata": {
        "id": "vo-xTYUh2Lf5",
        "colab_type": "code",
        "colab": {}
      },
      "cell_type": "code",
      "source": [
        "trainer = gluon.Trainer(net.collect_params(), 'sgd', {'learning_rate':0.01})"
      ],
      "execution_count": 0,
      "outputs": []
    },
    {
      "metadata": {
        "id": "piWF03RF2WyB",
        "colab_type": "code",
        "colab": {
          "base_uri": "https://localhost:8080/",
          "height": 185
        },
        "outputId": "259a94e5-080f-41cb-aa4f-43f0913b4299"
      },
      "cell_type": "code",
      "source": [
        "epochs = 10\n",
        "batch_size = 10\n",
        "for i in range(epochs):\n",
        "    for data, label in data_iter:\n",
        "        with autograd.record():\n",
        "            l = loss(label, net(data))\n",
        "        l.backward()\n",
        "        trainer.step(batch_size)\n",
        "    total_loss = loss(net(X), y).mean().asscalar()\n",
        "    print('epoch: %d, total_loss: %f'%(i, total_loss))"
      ],
      "execution_count": 57,
      "outputs": [
        {
          "output_type": "stream",
          "text": [
            "epoch: 0, total_loss: 1.662651\n",
            "epoch: 1, total_loss: 0.222141\n",
            "epoch: 2, total_loss: 0.029801\n",
            "epoch: 3, total_loss: 0.004053\n",
            "epoch: 4, total_loss: 0.000593\n",
            "epoch: 5, total_loss: 0.000125\n",
            "epoch: 6, total_loss: 0.000061\n",
            "epoch: 7, total_loss: 0.000053\n",
            "epoch: 8, total_loss: 0.000052\n",
            "epoch: 9, total_loss: 0.000052\n"
          ],
          "name": "stdout"
        }
      ]
    },
    {
      "metadata": {
        "id": "KzFhhQ8p3Bwp",
        "colab_type": "code",
        "colab": {}
      },
      "cell_type": "code",
      "source": [
        ""
      ],
      "execution_count": 0,
      "outputs": []
    }
  ]
}