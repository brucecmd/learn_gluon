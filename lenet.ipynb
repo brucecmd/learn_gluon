{
  "nbformat": 4,
  "nbformat_minor": 0,
  "metadata": {
    "colab": {
      "name": "lenet.ipynb",
      "version": "0.3.2",
      "provenance": [],
      "collapsed_sections": [],
      "include_colab_link": true
    },
    "kernelspec": {
      "name": "python3",
      "display_name": "Python 3"
    },
    "accelerator": "GPU"
  },
  "cells": [
    {
      "cell_type": "markdown",
      "metadata": {
        "id": "view-in-github",
        "colab_type": "text"
      },
      "source": [
        "[View in Colaboratory](https://colab.research.google.com/github/brucecmd/learn_gluon/blob/master/lenet.ipynb)"
      ]
    },
    {
      "metadata": {
        "id": "-7zbQrpe2S7s",
        "colab_type": "code",
        "colab": {}
      },
      "cell_type": "code",
      "source": [
        "from mxnet.gluon import nn\n",
        "import mxnet as mx\n",
        "from mxnet.gluon import loss as gloss\n",
        "from time import time\n",
        "from mxnet.gluon import data as gdata\n",
        "from mxnet import gluon, init, autograd, nd"
      ],
      "execution_count": 0,
      "outputs": []
    },
    {
      "metadata": {
        "id": "ur9GiwcBNdzG",
        "colab_type": "code",
        "colab": {}
      },
      "cell_type": "code",
      "source": [
        "def try_gpu():\n",
        "    try:\n",
        "        ctx = mx.gpu()\n",
        "        _ = nd.zeros((1,), ctx=ctx)\n",
        "    except:\n",
        "        ctx = mx.cpu()\n",
        "    return ctx"
      ],
      "execution_count": 0,
      "outputs": []
    },
    {
      "metadata": {
        "id": "5vpniM6Q30EJ",
        "colab_type": "code",
        "colab": {}
      },
      "cell_type": "code",
      "source": [
        "net = nn.Sequential()\n",
        "net.add(\n",
        "nn.Conv2D(channels=6, kernel_size=5, activation='sigmoid'),\n",
        "nn.MaxPool2D(pool_size=2, strides=2),\n",
        "nn.Conv2D(channels=16, kernel_size=5, activation='sigmoid'),\n",
        "nn.MaxPool2D(pool_size=2, strides=2),\n",
        "nn.Dense(120, activation='sigmoid'),\n",
        "nn.Dense(84, activation='sigmoid'),\n",
        "nn.Dense(10)\n",
        ")\n",
        "ctx = try_gpu()\n",
        "net.initialize(init.Normal(sigma=1), ctx=ctx) # 要注意的是，这里的sigma选太小的话，训不出结果来"
      ],
      "execution_count": 0,
      "outputs": []
    },
    {
      "metadata": {
        "id": "tUClywqX5Izn",
        "colab_type": "code",
        "colab": {}
      },
      "cell_type": "code",
      "source": [
        "mnist_train = gdata.vision.FashionMNIST(train=True)\n",
        "mnist_test = gdata.vision.FashionMNIST(train=False)"
      ],
      "execution_count": 0,
      "outputs": []
    },
    {
      "metadata": {
        "id": "970ssuD_5b_H",
        "colab_type": "code",
        "colab": {}
      },
      "cell_type": "code",
      "source": [
        "batch_size = 256\n",
        "transformer = gdata.vision.transforms.ToTensor()\n",
        "train_iter = gdata.DataLoader(mnist_train.transform_first(transformer), batch_size, shuffle=True)\n",
        "test_iter = gdata.DataLoader(mnist_test.transform_first(transformer), batch_size, shuffle=True)"
      ],
      "execution_count": 0,
      "outputs": []
    },
    {
      "metadata": {
        "id": "jrbl4MvT6MEv",
        "colab_type": "code",
        "colab": {}
      },
      "cell_type": "code",
      "source": [
        "def accuracy(y_hat, y):\n",
        "    return (y_hat.argmax(axis=1)==y.astype('float32')).mean().asscalar()\n",
        "\n",
        "  \n",
        "def evaluate_accuracy(data_iter, net, ctx):\n",
        "    acc = nd.array([0], ctx=ctx)\n",
        "    for x, y in data_iter:\n",
        "        x = x.as_in_context(ctx)\n",
        "        y = y.as_in_context(ctx)\n",
        "        acc += accuracy(net(x), y)\n",
        "    return acc.asscalar() / len(data_iter)"
      ],
      "execution_count": 0,
      "outputs": []
    },
    {
      "metadata": {
        "id": "L_zNMJMy6OuC",
        "colab_type": "code",
        "colab": {}
      },
      "cell_type": "code",
      "source": [
        "loss_func = gloss.SoftmaxCrossEntropyLoss()"
      ],
      "execution_count": 0,
      "outputs": []
    },
    {
      "metadata": {
        "id": "DBwU_dq5L63U",
        "colab_type": "code",
        "colab": {}
      },
      "cell_type": "code",
      "source": [
        "trainer = gluon.Trainer(net.collect_params(), 'sgd', {'learning_rate':0.1})"
      ],
      "execution_count": 0,
      "outputs": []
    },
    {
      "metadata": {
        "id": "iAiwPyUu7wDu",
        "colab_type": "code",
        "colab": {
          "base_uri": "https://localhost:8080/",
          "height": 187
        },
        "outputId": "eef3c064-5c7d-4cc3-a449-3e277ac2b2b9"
      },
      "cell_type": "code",
      "source": [
        "epochs = 10\n",
        "batch_size = 256\n",
        "\n",
        "ctx = try_gpu()\n",
        "\n",
        "for i in range(epochs):\n",
        "    for data, label in train_iter:\n",
        "        data = data.as_in_context(ctx)\n",
        "        label = label.as_in_context(ctx)\n",
        "        with autograd.record():\n",
        "            y_hat = net(data)\n",
        "            l = loss_func(y_hat, label)\n",
        "        l.backward()\n",
        "        trainer.step(batch_size)\n",
        "    train_acc = evaluate_accuracy(train_iter, net, ctx)\n",
        "    test_acc = evaluate_accuracy(test_iter, net, ctx)\n",
        "    print('epoch[%d], train acc[%f], test acc[%f]'%(i, train_acc, test_acc))"
      ],
      "execution_count": 30,
      "outputs": [
        {
          "output_type": "stream",
          "text": [
            "epoch[0], train acc[0.689412], test acc[0.689844]\n",
            "epoch[1], train acc[0.719686], test acc[0.715723]\n",
            "epoch[2], train acc[0.748149], test acc[0.740625]\n",
            "epoch[3], train acc[0.755979], test acc[0.747363]\n",
            "epoch[4], train acc[0.757757], test acc[0.748047]\n",
            "epoch[5], train acc[0.773521], test acc[0.760645]\n",
            "epoch[6], train acc[0.781444], test acc[0.777930]\n",
            "epoch[7], train acc[0.786830], test acc[0.780762]\n",
            "epoch[8], train acc[0.789888], test acc[0.785547]\n",
            "epoch[9], train acc[0.795883], test acc[0.791309]\n"
          ],
          "name": "stdout"
        }
      ]
    }
  ]
}