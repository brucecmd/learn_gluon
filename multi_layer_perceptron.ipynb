{
  "nbformat": 4,
  "nbformat_minor": 0,
  "metadata": {
    "colab": {
      "name": "multi_layer_perceptron.ipynb",
      "version": "0.3.2",
      "provenance": [],
      "collapsed_sections": [],
      "include_colab_link": true
    },
    "kernelspec": {
      "name": "python3",
      "display_name": "Python 3"
    },
    "accelerator": "GPU"
  },
  "cells": [
    {
      "cell_type": "markdown",
      "metadata": {
        "id": "view-in-github",
        "colab_type": "text"
      },
      "source": [
        "[View in Colaboratory](https://colab.research.google.com/github/brucecmd/learn_gluon/blob/master/multi_layer_perceptron.ipynb)"
      ]
    },
    {
      "metadata": {
        "id": "grJv9x15xgxD",
        "colab_type": "code",
        "colab": {}
      },
      "cell_type": "code",
      "source": [
        "from mxnet import nd, autograd\n",
        "from mxnet.gluon import data as gdata\n",
        "from mxnet.gluon import loss as gloss\n",
        "from mxnet import gluon\n",
        "import random"
      ],
      "execution_count": 0,
      "outputs": []
    },
    {
      "metadata": {
        "id": "V_ZSvQ4qxvWV",
        "colab_type": "code",
        "colab": {}
      },
      "cell_type": "code",
      "source": [
        "mnist_train = gdata.vision.FashionMNIST(train=True)\n",
        "mnist_test = gdata.vision.FashionMNIST(train=False)"
      ],
      "execution_count": 0,
      "outputs": []
    },
    {
      "metadata": {
        "id": "fTCh_KUYyb7B",
        "colab_type": "code",
        "colab": {}
      },
      "cell_type": "code",
      "source": [
        "batch_size = 256\n",
        "transformer = gdata.vision.transforms.ToTensor()\n",
        "train_iter = gdata.DataLoader(mnist_train.transform_first(transformer), batch_size, shuffle=True)\n",
        "test_iter = gdata.DataLoader(mnist_test.transform_first(transformer), batch_size, shuffle=True)"
      ],
      "execution_count": 0,
      "outputs": []
    },
    {
      "metadata": {
        "id": "jwzh_ObSy7-Z",
        "colab_type": "code",
        "colab": {}
      },
      "cell_type": "code",
      "source": [
        "num_inputs = 784\n",
        "num_hidden = 256\n",
        "num_outputs = 10\n",
        "w1 = nd.random_normal(0,1,shape=(num_inputs, num_hidden))\n",
        "b1 = nd.zeros(num_hidden)\n",
        "w2 = nd.random_normal(0,1,shape=(num_hidden, num_outputs))\n",
        "b2 = nd.zeros(num_outputs)\n",
        "params = [w1, b1, w2, b2]\n",
        "for p in params:\n",
        "    p.attach_grad()"
      ],
      "execution_count": 0,
      "outputs": []
    },
    {
      "metadata": {
        "id": "jv6vQtUjzBxj",
        "colab_type": "code",
        "colab": {}
      },
      "cell_type": "code",
      "source": [
        "num_inputs = 28 * 28\n",
        "def net(x):\n",
        "    return nd.dot(nd.relu(nd.dot(x.reshape(-1,num_inputs),w1)+b1),w2) + b2"
      ],
      "execution_count": 0,
      "outputs": []
    },
    {
      "metadata": {
        "id": "p65bKPAx0W2T",
        "colab_type": "code",
        "colab": {}
      },
      "cell_type": "code",
      "source": [
        "loss_func = gloss.SoftmaxCrossEntropyLoss()"
      ],
      "execution_count": 0,
      "outputs": []
    },
    {
      "metadata": {
        "id": "8yTgivXP0hWX",
        "colab_type": "code",
        "colab": {}
      },
      "cell_type": "code",
      "source": [
        "def sgd(params, batch_size, lr):\n",
        "    for p in params:\n",
        "        p[:] -= p.grad * lr / batch_size"
      ],
      "execution_count": 0,
      "outputs": []
    },
    {
      "metadata": {
        "id": "wm7DrdEy1FGG",
        "colab_type": "code",
        "colab": {}
      },
      "cell_type": "code",
      "source": [
        "def accuracy(y, y_hat):\n",
        "    return (y_hat.argmax(axis=1)==y.astype('float32')).mean().asscalar()"
      ],
      "execution_count": 0,
      "outputs": []
    },
    {
      "metadata": {
        "id": "VdiYxZg12D2k",
        "colab_type": "code",
        "colab": {}
      },
      "cell_type": "code",
      "source": [
        "def estimate_accuracy(data_iter, net):\n",
        "    total_acc = 0\n",
        "    for data, label in data_iter:\n",
        "        y_hat = net(data)\n",
        "        acc = accuracy(label, y_hat)\n",
        "        total_acc += acc\n",
        "    return total_acc / len(data_iter)"
      ],
      "execution_count": 0,
      "outputs": []
    },
    {
      "metadata": {
        "id": "8MbMn5Pj2zNh",
        "colab_type": "code",
        "colab": {
          "base_uri": "https://localhost:8080/",
          "height": 187
        },
        "outputId": "2b43429c-1054-4e7d-a454-53ed8616cb71"
      },
      "cell_type": "code",
      "source": [
        "epochs = 10\n",
        "lr = 0.01\n",
        "batch_size = 256\n",
        "for i in range(epochs):\n",
        "    for data, label in train_iter:\n",
        "        with autograd.record():\n",
        "            y_hat = net(data)\n",
        "            l = loss_func(y_hat,label)\n",
        "        l.backward()\n",
        "        sgd(params, batch_size, lr)\n",
        "    train_acc = estimate_accuracy(train_iter, net)\n",
        "    test_acc = estimate_accuracy(test_iter, net)\n",
        "    print('epochs [%d], train acc[%f], test acc[%f]'%(i, train_acc, test_acc))"
      ],
      "execution_count": 57,
      "outputs": [
        {
          "output_type": "stream",
          "text": [
            "epochs [0], train acc[0.672185], test acc[0.677930]\n",
            "epochs [1], train acc[0.719515], test acc[0.724316]\n",
            "epochs [2], train acc[0.737916], test acc[0.736035]\n",
            "epochs [3], train acc[0.752405], test acc[0.754199]\n",
            "epochs [4], train acc[0.761458], test acc[0.760059]\n",
            "epochs [5], train acc[0.767503], test acc[0.769434]\n",
            "epochs [6], train acc[0.770180], test acc[0.768066]\n",
            "epochs [7], train acc[0.777870], test acc[0.773047]\n",
            "epochs [8], train acc[0.776230], test acc[0.776270]\n",
            "epochs [9], train acc[0.784087], test acc[0.779980]\n"
          ],
          "name": "stdout"
        }
      ]
    },
    {
      "metadata": {
        "id": "8alMG4Tw52vF",
        "colab_type": "code",
        "colab": {}
      },
      "cell_type": "code",
      "source": [
        ""
      ],
      "execution_count": 0,
      "outputs": []
    }
  ]
}