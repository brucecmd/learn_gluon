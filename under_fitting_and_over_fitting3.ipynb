{
  "nbformat": 4,
  "nbformat_minor": 0,
  "metadata": {
    "colab": {
      "name": "under_fitting_and_over_fitting3.ipynb",
      "version": "0.3.2",
      "provenance": [],
      "collapsed_sections": [],
      "include_colab_link": true
    },
    "kernelspec": {
      "name": "python3",
      "display_name": "Python 3"
    },
    "accelerator": "GPU"
  },
  "cells": [
    {
      "cell_type": "markdown",
      "metadata": {
        "id": "view-in-github",
        "colab_type": "text"
      },
      "source": [
        "[View in Colaboratory](https://colab.research.google.com/github/brucecmd/learn_gluon/blob/master/under_fitting_and_over_fitting3.ipynb)"
      ]
    },
    {
      "metadata": {
        "id": "VVYI-AXXw58P",
        "colab_type": "code",
        "colab": {}
      },
      "cell_type": "code",
      "source": [
        "import matplotlib.pyplot as plt"
      ],
      "execution_count": 0,
      "outputs": []
    },
    {
      "metadata": {
        "id": "KQUj1qDo0T1n",
        "colab_type": "code",
        "colab": {}
      },
      "cell_type": "code",
      "source": [
        "# Firstly, define a function to draw error loss picture\n",
        "def draw(train_loss, test_loss):\n",
        "    # draw the error curve\n",
        "    plt.xlabel('epoch')\n",
        "    plt.ylabel('Error')\n",
        "    plt.plot(train_loss, c='r',label='train_loss')\n",
        "    plt.plot(test_loss, c='b', label='test_loss')\n",
        "    plt.legend()\n",
        "    plt.show()"
      ],
      "execution_count": 0,
      "outputs": []
    },
    {
      "metadata": {
        "id": "bggVmKUl1hFA",
        "colab_type": "code",
        "colab": {
          "base_uri": "https://localhost:8080/",
          "height": 361
        },
        "outputId": "969a8ae6-8c3b-40d8-e761-c52676b61e16"
      },
      "cell_type": "code",
      "source": [
        "# test draw function\n",
        "draw([0.89, 0.71, 0.56], [0.74, 0.63, 0.52])"
      ],
      "execution_count": 235,
      "outputs": [
        {
          "output_type": "display_data",
          "data": {
            "image/png": "[encoded data removed]",
            "text/plain": [
              "<matplotlib.figure.Figure at 0x7f82ffa3c7b8>"
            ]
          },
          "metadata": {
            "tags": []
          }
        }
      ]
    },
    {
      "metadata": {
        "id": "VQurple-1tQL",
        "colab_type": "code",
        "colab": {}
      },
      "cell_type": "code",
      "source": [
        "from mxnet import nd, autograd\n",
        "from mxnet.gluon import data as gdata"
      ],
      "execution_count": 0,
      "outputs": []
    },
    {
      "metadata": {
        "id": "eEGP1K572eZv",
        "colab_type": "code",
        "colab": {
          "base_uri": "https://localhost:8080/",
          "height": 170
        },
        "outputId": "3717e401-b5b0-4e7f-cb8d-795332be5476"
      },
      "cell_type": "code",
      "source": [
        "# begin make data\n",
        "tmp_x = nd.random_normal(0,1,shape=(1000,1)) # shape must be (1000,1) instead of (1000,), or nd.power will fail\n",
        "x = nd.concat(tmp_x, nd.power(tmp_x,2), nd.power(tmp_x,3))\n",
        "true_w = [3.8, -2,7, 1.3]\n",
        "true_b = 9.2\n",
        "y = true_w[0] * x[:,0] + true_w[1] * x[:,1] + true_w[2] * x[:,2] + true_b\n",
        "y += nd.random_normal(0,0.01,shape=y.shape)\n",
        "print(x[:,:3])"
      ],
      "execution_count": 237,
      "outputs": [
        {
          "output_type": "stream",
          "text": [
            "\n",
            "[[-0.92416906  0.8540885  -0.78932214]\n",
            " [-1.3193825   1.7407703  -2.296742  ]\n",
            " [ 0.7229788   0.5226983   0.37789977]\n",
            " ...\n",
            " [-0.22140698  0.04902105 -0.0108536 ]\n",
            " [-0.3010883   0.09065416 -0.02729491]\n",
            " [-1.4131563   1.9970106  -2.822088  ]]\n",
            "<NDArray 1000x3 @cpu(0)>\n"
          ],
          "name": "stdout"
        }
      ]
    },
    {
      "metadata": {
        "id": "kkUYBvAR7ugk",
        "colab_type": "code",
        "colab": {
          "base_uri": "https://localhost:8080/",
          "height": 289
        },
        "outputId": "5905e16e-fed8-4db7-80a0-a36ba1936394"
      },
      "cell_type": "code",
      "source": [
        "# prepare data_iter\n",
        "def get_data_iter(x,y,train_ratio, batch_size):\n",
        "    # split train and test by train_ratio\n",
        "    train_len = int(len(x) * train_ratio)\n",
        "    test_len = len(x) - train_len\n",
        "    train_dataset = gdata.ArrayDataset(x[:train_len,:],y[:train_len])  # the dataset has not shape, so split data first, not in Dataloader function\n",
        "    test_dataset = gdata.ArrayDataset(x[train_len:,:],y[train_len:])\n",
        "    train_iter = gdata.DataLoader(train_dataset, batch_size, shuffle=True)\n",
        "    test_iter = gdata.DataLoader(test_dataset, batch_size, shuffle=True)\n",
        "    return train_iter, test_iter\n",
        "train_iter, test_iter = get_data_iter(x,y,0.8,10)\n",
        "for data,label in train_iter:\n",
        "    print(data)\n",
        "    print(label)\n",
        "    break"
      ],
      "execution_count": 238,
      "outputs": [
        {
          "output_type": "stream",
          "text": [
            "\n",
            "[[ 1.2484678e-01  1.5586718e-02  1.9459516e-03]\n",
            " [-3.6479577e-01  1.3307595e-01 -4.8545547e-02]\n",
            " [-5.0198309e-02  2.5198702e-03 -1.2649322e-04]\n",
            " [-2.3786969e+00  5.6581988e+00 -1.3459141e+01]\n",
            " [-1.9567144e+00  3.8287313e+00 -7.4917336e+00]\n",
            " [-4.7478697e-01  2.2542267e-01 -1.0702774e-01]\n",
            " [-6.9433230e-01  4.8209736e-01 -3.3473575e-01]\n",
            " [-8.7274814e-01  7.6168931e-01 -6.6476291e-01]\n",
            " [-2.1787506e-01  4.7469541e-02 -1.0342429e-02]\n",
            " [ 1.2631835e+00  1.5956324e+00  2.0155766e+00]]\n",
            "<NDArray 10x3 @cpu(0)>\n",
            "\n",
            "[   9.681624      7.208869      9.003659   -105.39361     -58.346046\n",
            "    6.193571      3.2486234    -0.29733145    8.197852     24.933622  ]\n",
            "<NDArray 10 @cpu(0)>\n"
          ],
          "name": "stdout"
        }
      ]
    },
    {
      "metadata": {
        "id": "zLUvFT9I3weL",
        "colab_type": "code",
        "colab": {}
      },
      "cell_type": "code",
      "source": [
        "# define net\n",
        "from mxnet.gluon import nn\n",
        "from mxnet import init\n",
        "net = nn.Sequential()\n",
        "net.add(nn.Flatten())\n",
        "net.add(nn.Dense(1))\n",
        "net.initialize(init.Normal(sigma=0.01))"
      ],
      "execution_count": 0,
      "outputs": []
    },
    {
      "metadata": {
        "id": "Wf-VLCUC5Veg",
        "colab_type": "code",
        "colab": {}
      },
      "cell_type": "code",
      "source": [
        "# prepare loss function\n",
        "from mxnet.gluon import loss as gloss\n",
        "loss_func = gloss.L2Loss()"
      ],
      "execution_count": 0,
      "outputs": []
    },
    {
      "metadata": {
        "id": "853fJYBb6NGs",
        "colab_type": "code",
        "colab": {}
      },
      "cell_type": "code",
      "source": [
        "# prepare trainer\n",
        "from mxnet import gluon\n",
        "trainer = gluon.Trainer(net.collect_params(), 'sgd', {'learning_rate':0.01})"
      ],
      "execution_count": 0,
      "outputs": []
    },
    {
      "metadata": {
        "id": "3ofvyL7O6_9t",
        "colab_type": "code",
        "colab": {
          "base_uri": "https://localhost:8080/",
          "height": 361
        },
        "outputId": "6edc40a8-0c20-4c1c-9135-782be2112a0c"
      },
      "cell_type": "code",
      "source": [
        "# because it is regression, use loss(from loss function) instead of accuracy function\n",
        "# begin train and test\n",
        "epochs = 10\n",
        "batch_size = 10\n",
        "train_len = int(len(x) * 0.9)\n",
        "train_iter, test_iter = get_data_iter(x,y,0.9,batch_size)\n",
        "train_loss_list = []\n",
        "test_loss_list = []\n",
        "for i in range(epochs):\n",
        "    for data, label in train_iter:\n",
        "        with autograd.record():\n",
        "            y_hat = net(data)\n",
        "            l = loss_func(y_hat, label)\n",
        "        l.backward()\n",
        "        trainer.step(batch_size)\n",
        "    train_loss = loss_func(net(x[:train_len,:]), y[:train_len]).sum().asscalar()\n",
        "    test_loss = loss_func(net(x[train_len:,:]), y[train_len:]).sum().asscalar()\n",
        "    train_loss_list.append(train_loss)\n",
        "    test_loss_list.append(test_loss)\n",
        "draw(train_loss_list, test_loss_list)    \n",
        "    "
      ],
      "execution_count": 242,
      "outputs": [
        {
          "output_type": "display_data",
          "data": {
            "image/png": "[encoded data removed]",
            "text/plain": [
              "<matplotlib.figure.Figure at 0x7f82ffa6ca20>"
            ]
          },
          "metadata": {
            "tags": []
          }
        }
      ]
    },
    {
      "metadata": {
        "id": "FVfFr4Zi7cg5",
        "colab_type": "code",
        "colab": {}
      },
      "cell_type": "code",
      "source": [
        " "
      ],
      "execution_count": 0,
      "outputs": []
    }
  ]
}