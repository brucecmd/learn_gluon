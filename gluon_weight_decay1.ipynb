{
  "nbformat": 4,
  "nbformat_minor": 0,
  "metadata": {
    "colab": {
      "name": "gluon_weight_decay1.ipynb",
      "version": "0.3.2",
      "provenance": [],
      "collapsed_sections": [],
      "include_colab_link": true
    },
    "kernelspec": {
      "name": "python3",
      "display_name": "Python 3"
    },
    "accelerator": "GPU"
  },
  "cells": [
    {
      "cell_type": "markdown",
      "metadata": {
        "id": "view-in-github",
        "colab_type": "text"
      },
      "source": [
        "[View in Colaboratory](https://colab.research.google.com/github/brucecmd/learn_gluon/blob/master/gluon_weight_decay1.ipynb)"
      ]
    },
    {
      "metadata": {
        "id": "V6hPl7Ojdupa",
        "colab_type": "code",
        "colab": {}
      },
      "cell_type": "code",
      "source": [
        "from mxnet import nd, autograd, gluon\n",
        "from mxnet.gluon import data as gdata\n",
        "from mxnet.gluon import loss as gloss\n",
        "from mxnet.gluon import nn\n",
        "from mxnet import init"
      ],
      "execution_count": 0,
      "outputs": []
    },
    {
      "metadata": {
        "id": "G-iKPp4qeLBe",
        "colab_type": "code",
        "colab": {}
      },
      "cell_type": "code",
      "source": [
        "num_train = 20\n",
        "num_test = 100\n",
        "num_inputs = 200\n",
        "batch_size = 1\n",
        "x = nd.random_normal(0,1,shape=(num_train+num_test, num_inputs))\n",
        "true_w = nd.ones(shape=(num_inputs, 1))\n",
        "true_b = 2.8\n",
        "y = nd.dot(x,true_w) + true_b\n",
        "y += nd.random_normal(0,0.01,shape=y.shape)\n",
        "\n",
        "feature_train, feature_test = x[:num_train], x[num_train:]\n",
        "label_train, label_test = y[:num_train], y[num_train:]\n",
        "train_iter = gdata.DataLoader(gdata.ArrayDataset(feature_train, label_train), batch_size, shuffle=True)\n",
        "test_iter = gdata.DataLoader(gdata.ArrayDataset(feature_test, label_test), batch_size, shuffle=True)"
      ],
      "execution_count": 0,
      "outputs": []
    },
    {
      "metadata": {
        "id": "vl50aOaLe7Vt",
        "colab_type": "code",
        "colab": {}
      },
      "cell_type": "code",
      "source": [
        "net = nn.Sequential()\n",
        "net.add(nn.Flatten())\n",
        "net.add(nn.Dense(1))\n",
        "net.initialize(init.Normal(sigma=0.01))"
      ],
      "execution_count": 0,
      "outputs": []
    },
    {
      "metadata": {
        "id": "EpIuSqihfFbF",
        "colab_type": "code",
        "colab": {}
      },
      "cell_type": "code",
      "source": [
        "loss_func = gloss.L2Loss()"
      ],
      "execution_count": 0,
      "outputs": []
    },
    {
      "metadata": {
        "id": "rbz3zBakguLL",
        "colab_type": "code",
        "colab": {}
      },
      "cell_type": "code",
      "source": [
        "trainer_w = gluon.Trainer(net.collect_params('.*weight'), 'sgd', {'learning_rate':0.001})\n",
        "trainer_b = gluon.Trainer(net.collect_params('.*bias'), 'sgd', {'learning_rate':0.001})"
      ],
      "execution_count": 0,
      "outputs": []
    },
    {
      "metadata": {
        "id": "8jAu5pP_hN7I",
        "colab_type": "code",
        "colab": {
          "base_uri": "https://localhost:8080/",
          "height": 187
        },
        "outputId": "1448351d-149a-46f0-c000-d624d41bae49"
      },
      "cell_type": "code",
      "source": [
        "epochs = 10\n",
        "lr = 0.001\n",
        "batch_size = 1\n",
        "for i in range(epochs):\n",
        "    for data, label in train_iter:\n",
        "        with autograd.record():\n",
        "            y_hat = net(data)\n",
        "            l = loss_func(y_hat, label)\n",
        "        l.backward()\n",
        "        trainer_w.step(batch_size)\n",
        "        trainer_b.step(batch_size)\n",
        "    train_loss = loss_func(net(feature_train),label_train).mean().asscalar()\n",
        "    test_loss = loss_func(net(feature_test),label_test).mean().asscalar()\n",
        "    print('epoch[%d], train loss[%f], test loss[%f]'%(i, train_loss, test_loss))"
      ],
      "execution_count": 233,
      "outputs": [
        {
          "output_type": "stream",
          "text": [
            "epoch[0], train loss[49.454857], test loss[102.331932]\n",
            "epoch[1], train loss[30.437103], test loss[101.611618]\n",
            "epoch[2], train loss[19.049978], test loss[101.221725]\n",
            "epoch[3], train loss[12.103906], test loss[101.032005]\n",
            "epoch[4], train loss[7.799559], test loss[100.912109]\n",
            "epoch[5], train loss[5.105788], test loss[100.871300]\n",
            "epoch[6], train loss[3.379375], test loss[100.857765]\n",
            "epoch[7], train loss[2.261538], test loss[100.868553]\n",
            "epoch[8], train loss[1.526597], test loss[100.892952]\n",
            "epoch[9], train loss[1.042768], test loss[100.912888]\n"
          ],
          "name": "stdout"
        }
      ]
    }
  ]
}