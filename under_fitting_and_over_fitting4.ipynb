{
  "nbformat": 4,
  "nbformat_minor": 0,
  "metadata": {
    "colab": {
      "name": "under_fitting_and_over_fitting4.ipynb",
      "version": "0.3.2",
      "provenance": [],
      "collapsed_sections": [],
      "include_colab_link": true
    },
    "kernelspec": {
      "name": "python3",
      "display_name": "Python 3"
    },
    "accelerator": "GPU"
  },
  "cells": [
    {
      "cell_type": "markdown",
      "metadata": {
        "id": "view-in-github",
        "colab_type": "text"
      },
      "source": [
        "[View in Colaboratory](https://colab.research.google.com/github/brucecmd/learn_gluon/blob/master/under_fitting_and_over_fitting4.ipynb)"
      ]
    },
    {
      "metadata": {
        "id": "VVYI-AXXw58P",
        "colab_type": "code",
        "colab": {}
      },
      "cell_type": "code",
      "source": [
        "import matplotlib.pyplot as plt"
      ],
      "execution_count": 0,
      "outputs": []
    },
    {
      "metadata": {
        "id": "KQUj1qDo0T1n",
        "colab_type": "code",
        "colab": {}
      },
      "cell_type": "code",
      "source": [
        "# Firstly, define a function to draw error loss picture\n",
        "def draw(train_loss, test_loss):\n",
        "    # draw the error curve\n",
        "    plt.xlabel('epoch')\n",
        "    plt.ylabel('Error')\n",
        "    plt.plot(train_loss, c='r',label='train_loss')\n",
        "    plt.plot(test_loss, c='b', label='test_loss')\n",
        "    plt.legend()\n",
        "    plt.show()"
      ],
      "execution_count": 0,
      "outputs": []
    },
    {
      "metadata": {
        "id": "bggVmKUl1hFA",
        "colab_type": "code",
        "colab": {
          "base_uri": "https://localhost:8080/",
          "height": 361
        },
        "outputId": "82297ff5-5244-4460-e6bc-f0f71bb25895"
      },
      "cell_type": "code",
      "source": [
        "# test draw function\n",
        "draw([0.89, 0.71, 0.56], [0.74, 0.63, 0.52])"
      ],
      "execution_count": 265,
      "outputs": [
        {
          "output_type": "display_data",
          "data": {
            "image/png": "[encoded data removed]",
            "text/plain": [
              "<matplotlib.figure.Figure at 0x7f82ff6f1ef0>"
            ]
          },
          "metadata": {
            "tags": []
          }
        }
      ]
    },
    {
      "metadata": {
        "id": "VQurple-1tQL",
        "colab_type": "code",
        "colab": {}
      },
      "cell_type": "code",
      "source": [
        "from mxnet import nd, autograd\n",
        "from mxnet.gluon import data as gdata"
      ],
      "execution_count": 0,
      "outputs": []
    },
    {
      "metadata": {
        "id": "eEGP1K572eZv",
        "colab_type": "code",
        "colab": {
          "base_uri": "https://localhost:8080/",
          "height": 170
        },
        "outputId": "4df0e2a9-5947-4a7c-c21d-c2df7c31eb5d"
      },
      "cell_type": "code",
      "source": [
        "# begin make data\n",
        "tmp_x = nd.random_normal(0,1,shape=(1000,1)) # shape must be (1000,1) instead of (1000,), or nd.power will fail\n",
        "x = nd.concat(tmp_x, nd.power(tmp_x,2), nd.power(tmp_x,3))\n",
        "true_w = [3.8, -2,7, 1.3]\n",
        "true_b = 9.2\n",
        "y = true_w[0] * x[:,0] + true_w[1] * x[:,1] + true_w[2] * x[:,2] + true_b\n",
        "y += nd.random_normal(0,0.01,shape=y.shape)\n",
        "print(x[:,:3])"
      ],
      "execution_count": 267,
      "outputs": [
        {
          "output_type": "stream",
          "text": [
            "\n",
            "[[ 8.1174248e-01  6.5892589e-01  5.3487813e-01]\n",
            " [ 4.2311255e-02  1.7902423e-03  7.5747397e-05]\n",
            " [-6.6681206e-01  4.4463831e-01 -2.9649019e-01]\n",
            " ...\n",
            " [-1.3045609e+00  1.7018791e+00 -2.2202051e+00]\n",
            " [-1.7983071e+00  3.2339082e+00 -5.8155603e+00]\n",
            " [-8.9910531e-01  8.0839038e-01 -7.2682804e-01]]\n",
            "<NDArray 1000x3 @cpu(0)>\n"
          ],
          "name": "stdout"
        }
      ]
    },
    {
      "metadata": {
        "id": "kkUYBvAR7ugk",
        "colab_type": "code",
        "colab": {
          "base_uri": "https://localhost:8080/",
          "height": 289
        },
        "outputId": "4ae2d7c0-5dd1-4fd3-a14d-4f76b93faca9"
      },
      "cell_type": "code",
      "source": [
        "# prepare data_iter\n",
        "def get_data_iter(x,y,train_ratio, batch_size):\n",
        "    # split train and test by train_ratio\n",
        "    train_len = int(len(x) * train_ratio)\n",
        "    test_len = len(x) - train_len\n",
        "    train_dataset = gdata.ArrayDataset(x[:train_len,:],y[:train_len])  # the dataset has not shape, so split data first, not in Dataloader function\n",
        "    test_dataset = gdata.ArrayDataset(x[train_len:,:],y[train_len:])\n",
        "    train_iter = gdata.DataLoader(train_dataset, batch_size, shuffle=True)\n",
        "    test_iter = gdata.DataLoader(test_dataset, batch_size, shuffle=True)\n",
        "    return train_iter, test_iter\n",
        "train_iter, test_iter = get_data_iter(x,y,0.8,10)\n",
        "for data,label in train_iter:\n",
        "    print(data)\n",
        "    print(label)\n",
        "    break"
      ],
      "execution_count": 268,
      "outputs": [
        {
          "output_type": "stream",
          "text": [
            "\n",
            "[[-2.31061146e-01  5.33892512e-02 -1.23361824e-02]\n",
            " [ 4.66216743e-01  2.17358053e-01  1.01335965e-01]\n",
            " [-1.37229896e+00  1.88320446e+00 -2.58431935e+00]\n",
            " [ 8.59263718e-01  7.38334119e-01  6.34423733e-01]\n",
            " [ 1.34091169e-01  1.79804415e-02  2.41101836e-03]\n",
            " [ 6.42555833e-01  4.12878007e-01  2.65297174e-01]\n",
            " [-6.58837497e-01  4.34066862e-01 -2.85979509e-01]\n",
            " [ 4.50397991e-02  2.02858355e-03  9.13669937e-05]\n",
            " [ 5.16982079e-01  2.67270476e-01  1.38174042e-01]\n",
            " [ 1.67865193e+00  2.81787229e+00  4.73022699e+00]]\n",
            "<NDArray 10x3 @cpu(0)>\n",
            "\n",
            "[  8.127728   11.239504  -17.872828   15.4320755   9.6971245  12.674944\n",
            "   3.8158853   9.362807   11.581796   43.04847  ]\n",
            "<NDArray 10 @cpu(0)>\n"
          ],
          "name": "stdout"
        }
      ]
    },
    {
      "metadata": {
        "id": "zLUvFT9I3weL",
        "colab_type": "code",
        "colab": {}
      },
      "cell_type": "code",
      "source": [
        "# define net\n",
        "from mxnet.gluon import nn\n",
        "from mxnet import init\n",
        "net = nn.Sequential()\n",
        "net.add(nn.Flatten())\n",
        "net.add(nn.Dense(1))\n",
        "net.initialize(init.Normal(sigma=0.01))"
      ],
      "execution_count": 0,
      "outputs": []
    },
    {
      "metadata": {
        "id": "Wf-VLCUC5Veg",
        "colab_type": "code",
        "colab": {}
      },
      "cell_type": "code",
      "source": [
        "# prepare loss function\n",
        "from mxnet.gluon import loss as gloss\n",
        "loss_func = gloss.L2Loss()"
      ],
      "execution_count": 0,
      "outputs": []
    },
    {
      "metadata": {
        "id": "853fJYBb6NGs",
        "colab_type": "code",
        "colab": {}
      },
      "cell_type": "code",
      "source": [
        "# prepare trainer\n",
        "from mxnet import gluon\n",
        "trainer = gluon.Trainer(net.collect_params(), 'sgd', {'learning_rate':0.01})"
      ],
      "execution_count": 0,
      "outputs": []
    },
    {
      "metadata": {
        "id": "3ofvyL7O6_9t",
        "colab_type": "code",
        "colab": {
          "base_uri": "https://localhost:8080/",
          "height": 361
        },
        "outputId": "24f59ca0-866d-4de1-b85c-5bfaea30cf93"
      },
      "cell_type": "code",
      "source": [
        "# because it is regression, use loss(from loss function) instead of accuracy function\n",
        "# begin train and test\n",
        "epochs = 10\n",
        "batch_size = 10\n",
        "train_len = int(len(x) * 0.009)\n",
        "train_iter, test_iter = get_data_iter(x,y,0.009,batch_size)\n",
        "train_loss_list = []\n",
        "test_loss_list = []\n",
        "for i in range(epochs):\n",
        "    for data, label in train_iter:\n",
        "        with autograd.record():\n",
        "            y_hat = net(data)\n",
        "            l = loss_func(y_hat, label)\n",
        "        l.backward()\n",
        "        trainer.step(batch_size)\n",
        "    train_loss = loss_func(net(x[:train_len,:]), y[:train_len]).sum().asscalar()\n",
        "    test_loss = loss_func(net(x[train_len:,:]), y[train_len:]).sum().asscalar()\n",
        "    train_loss_list.append(train_loss)\n",
        "    test_loss_list.append(test_loss)\n",
        "draw(train_loss_list, test_loss_list)    \n",
        "    "
      ],
      "execution_count": 272,
      "outputs": [
        {
          "output_type": "display_data",
          "data": {
            "image/png": "[encoded data removed]",
            "text/plain": [
              "<matplotlib.figure.Figure at 0x7f82ff86eac8>"
            ]
          },
          "metadata": {
            "tags": []
          }
        }
      ]
    },
    {
      "metadata": {
        "id": "FVfFr4Zi7cg5",
        "colab_type": "code",
        "colab": {}
      },
      "cell_type": "code",
      "source": [
        " "
      ],
      "execution_count": 0,
      "outputs": []
    }
  ]
}