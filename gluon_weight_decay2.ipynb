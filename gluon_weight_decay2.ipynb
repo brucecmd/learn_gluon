{
  "nbformat": 4,
  "nbformat_minor": 0,
  "metadata": {
    "colab": {
      "name": "gluon_weight_decay2.ipynb",
      "version": "0.3.2",
      "provenance": [],
      "collapsed_sections": [],
      "include_colab_link": true
    },
    "kernelspec": {
      "name": "python3",
      "display_name": "Python 3"
    },
    "accelerator": "GPU"
  },
  "cells": [
    {
      "cell_type": "markdown",
      "metadata": {
        "id": "view-in-github",
        "colab_type": "text"
      },
      "source": [
        "[View in Colaboratory](https://colab.research.google.com/github/brucecmd/learn_gluon/blob/master/gluon_weight_decay2.ipynb)"
      ]
    },
    {
      "metadata": {
        "id": "V6hPl7Ojdupa",
        "colab_type": "code",
        "colab": {}
      },
      "cell_type": "code",
      "source": [
        "from mxnet import nd, autograd, gluon\n",
        "from mxnet.gluon import data as gdata\n",
        "from mxnet.gluon import loss as gloss\n",
        "from mxnet.gluon import nn\n",
        "from mxnet import init"
      ],
      "execution_count": 0,
      "outputs": []
    },
    {
      "metadata": {
        "id": "G-iKPp4qeLBe",
        "colab_type": "code",
        "colab": {}
      },
      "cell_type": "code",
      "source": [
        "num_train = 20\n",
        "num_test = 100\n",
        "num_inputs = 200\n",
        "batch_size = 1\n",
        "x = nd.random_normal(0,1,shape=(num_train+num_test, num_inputs))\n",
        "true_w = nd.ones(shape=(num_inputs, 1))\n",
        "true_b = 2.8\n",
        "y = nd.dot(x,true_w) + true_b\n",
        "y += nd.random_normal(0,0.01,shape=y.shape)\n",
        "\n",
        "feature_train, feature_test = x[:num_train], x[num_train:]\n",
        "label_train, label_test = y[:num_train], y[num_train:]\n",
        "train_iter = gdata.DataLoader(gdata.ArrayDataset(feature_train, label_train), batch_size, shuffle=True)\n",
        "test_iter = gdata.DataLoader(gdata.ArrayDataset(feature_test, label_test), batch_size, shuffle=True)"
      ],
      "execution_count": 0,
      "outputs": []
    },
    {
      "metadata": {
        "id": "vl50aOaLe7Vt",
        "colab_type": "code",
        "colab": {}
      },
      "cell_type": "code",
      "source": [
        "net = nn.Sequential()\n",
        "net.add(nn.Flatten())\n",
        "net.add(nn.Dense(1))\n",
        "net.initialize(init.Normal(sigma=0.01))"
      ],
      "execution_count": 0,
      "outputs": []
    },
    {
      "metadata": {
        "id": "EpIuSqihfFbF",
        "colab_type": "code",
        "colab": {}
      },
      "cell_type": "code",
      "source": [
        "loss_func = gloss.L2Loss()"
      ],
      "execution_count": 0,
      "outputs": []
    },
    {
      "metadata": {
        "id": "rbz3zBakguLL",
        "colab_type": "code",
        "colab": {}
      },
      "cell_type": "code",
      "source": [
        "weight_decay = 5\n",
        "trainer_w = gluon.Trainer(net.collect_params('.*weight'), 'sgd', {'learning_rate':0.01, 'wd':weight_decay})\n",
        "trainer_b = gluon.Trainer(net.collect_params('.*bias'), 'sgd', {'learning_rate':0.01})"
      ],
      "execution_count": 0,
      "outputs": []
    },
    {
      "metadata": {
        "id": "8jAu5pP_hN7I",
        "colab_type": "code",
        "colab": {
          "base_uri": "https://localhost:8080/",
          "height": 187
        },
        "outputId": "5dea1d39-ae6c-4bf0-9fcf-f419676aa8c6"
      },
      "cell_type": "code",
      "source": [
        "epochs = 10\n",
        "lr = 0.001\n",
        "batch_size = 1\n",
        "for i in range(epochs):\n",
        "    for data, label in train_iter:\n",
        "        with autograd.record():\n",
        "            y_hat = net(data)\n",
        "            l = loss_func(y_hat, label)\n",
        "        l.backward()\n",
        "        trainer_w.step(batch_size)\n",
        "        trainer_b.step(batch_size)\n",
        "    train_loss = loss_func(net(feature_train),label_train).mean().asscalar()\n",
        "    test_loss = loss_func(net(feature_test),label_test).mean().asscalar()\n",
        "    print('epoch[%d], train loss[%f], test loss[%f]'%(i, train_loss, test_loss))"
      ],
      "execution_count": 269,
      "outputs": [
        {
          "output_type": "stream",
          "text": [
            "epoch[0], train loss[17.711864], test loss[75.831360]\n",
            "epoch[1], train loss[17.201267], test loss[78.877510]\n",
            "epoch[2], train loss[15.745458], test loss[78.547768]\n",
            "epoch[3], train loss[18.692379], test loss[73.502182]\n",
            "epoch[4], train loss[13.575224], test loss[75.572105]\n",
            "epoch[5], train loss[12.664291], test loss[78.199768]\n",
            "epoch[6], train loss[12.280584], test loss[71.950691]\n",
            "epoch[7], train loss[15.332565], test loss[77.328430]\n",
            "epoch[8], train loss[8.686056], test loss[74.659668]\n",
            "epoch[9], train loss[12.612243], test loss[73.777512]\n"
          ],
          "name": "stdout"
        }
      ]
    }
  ]
}