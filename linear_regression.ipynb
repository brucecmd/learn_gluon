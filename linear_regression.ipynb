{
  "nbformat": 4,
  "nbformat_minor": 0,
  "metadata": {
    "colab": {
      "name": "linear_regression.ipynb",
      "version": "0.3.2",
      "provenance": [],
      "include_colab_link": true
    },
    "kernelspec": {
      "name": "python3",
      "display_name": "Python 3"
    },
    "accelerator": "GPU"
  },
  "cells": [
    {
      "cell_type": "markdown",
      "metadata": {
        "id": "view-in-github",
        "colab_type": "text"
      },
      "source": [
        "[View in Colaboratory](https://colab.research.google.com/github/brucecmd/learn_gluon/blob/master/linear_regression.ipynb)"
      ]
    },
    {
      "metadata": {
        "id": "svkr97zZ5-78",
        "colab_type": "code",
        "colab": {}
      },
      "cell_type": "code",
      "source": [
        "import mxnet\n",
        "from mxnet import nd, autograd\n",
        "import random"
      ],
      "execution_count": 0,
      "outputs": []
    },
    {
      "metadata": {
        "id": "jdid1Dsr6vKq",
        "colab_type": "code",
        "colab": {}
      },
      "cell_type": "code",
      "source": [
        "num_examples = 1000\n",
        "num_inputs = 2\n",
        "X = nd.random_normal(0,1,shape=(num_examples, num_inputs))\n",
        "true_w = [-3.2, 4.9]\n",
        "true_b = 2.88\n",
        "y = true_w[0] * X[:,0] + true_w[1] * X[:,1] + true_b\n",
        "y += nd.random_normal(0, 0.01, shape=y.shape)"
      ],
      "execution_count": 0,
      "outputs": []
    },
    {
      "metadata": {
        "id": "RDVVZQxmOrDW",
        "colab_type": "code",
        "colab": {}
      },
      "cell_type": "code",
      "source": [
        "# init param\n",
        "w = nd.random_normal(0,1,shape=(num_inputs,1))\n",
        "b = nd.zeros((1,))\n",
        "params = [w,b]\n",
        "for p in params:\n",
        "    p.attach_grad()"
      ],
      "execution_count": 0,
      "outputs": []
    },
    {
      "metadata": {
        "id": "stglT-yhO5KH",
        "colab_type": "code",
        "colab": {}
      },
      "cell_type": "code",
      "source": [
        "# define data_iter\n",
        "def data_iter(batch_size, features, labels):\n",
        "    pass\n",
        "    num_examples = len(features)\n",
        "    indices = list(range(num_examples))\n",
        "    random.shuffle(indices)\n",
        "    for i in range(0, num_examples, batch_size):\n",
        "        j = nd.array(indices[i:min(i+batch_size,num_examples)])\n",
        "        yield features.take(j), labels.take(j)"
      ],
      "execution_count": 0,
      "outputs": []
    },
    {
      "metadata": {
        "id": "CBB_GzhhPdEL",
        "colab_type": "code",
        "colab": {}
      },
      "cell_type": "code",
      "source": [
        "# define net\n",
        "def net(X, w, b):\n",
        "    return nd.dot(X,w) + b"
      ],
      "execution_count": 0,
      "outputs": []
    },
    {
      "metadata": {
        "id": "kkUUywzjPjYR",
        "colab_type": "code",
        "colab": {}
      },
      "cell_type": "code",
      "source": [
        "# define loss func\n",
        "def loss_func(y, y_hat):\n",
        "    return (y.reshape(y_hat.shape) - y_hat) ** 2 / 2"
      ],
      "execution_count": 0,
      "outputs": []
    },
    {
      "metadata": {
        "id": "xP5-dt8tqfnR",
        "colab_type": "code",
        "colab": {}
      },
      "cell_type": "code",
      "source": [
        "# define sgd\n",
        "def sgd(batch_size, params, lr):\n",
        "    for p in params:\n",
        "        p[:] -= lr * p.grad / batch_size"
      ],
      "execution_count": 0,
      "outputs": []
    },
    {
      "metadata": {
        "id": "RBoIw5zzqyWB",
        "colab_type": "code",
        "colab": {
          "base_uri": "https://localhost:8080/",
          "height": 185
        },
        "outputId": "a36a9929-7daa-4d4a-a5c5-f5d09fefa3b1"
      },
      "cell_type": "code",
      "source": [
        "epochs = 10\n",
        "lr = 0.01\n",
        "batch_size = 10\n",
        "for i in range(epochs):\n",
        "    pass\n",
        "    for data, label in data_iter(batch_size, X, y):\n",
        "        with autograd.record():\n",
        "            y_hat = net(data, w, b)\n",
        "            loss = loss_func(label, y_hat)\n",
        "        loss.backward()\n",
        "        sgd(batch_size, params, lr)\n",
        "    total_loss_value = loss_func(y, net(X, w, b)).mean().asscalar()\n",
        "    print(total_loss_value)"
      ],
      "execution_count": 41,
      "outputs": [
        {
          "output_type": "stream",
          "text": [
            "2.9290853\n",
            "0.3786966\n",
            "0.049094256\n",
            "0.0064138565\n",
            "0.00087796326\n",
            "0.00016025793\n",
            "6.5450695e-05\n",
            "5.3763946e-05\n",
            "5.215969e-05\n",
            "5.1971012e-05\n"
          ],
          "name": "stdout"
        }
      ]
    },
    {
      "metadata": {
        "id": "2jrVlZBvrh_h",
        "colab_type": "code",
        "colab": {}
      },
      "cell_type": "code",
      "source": [
        ""
      ],
      "execution_count": 0,
      "outputs": []
    }
  ]
}