{
  "nbformat": 4,
  "nbformat_minor": 0,
  "metadata": {
    "colab": {
      "name": "softmax_classification.ipynb",
      "version": "0.3.2",
      "provenance": [],
      "collapsed_sections": [],
      "include_colab_link": true
    },
    "kernelspec": {
      "name": "python3",
      "display_name": "Python 3"
    },
    "accelerator": "GPU"
  },
  "cells": [
    {
      "cell_type": "markdown",
      "metadata": {
        "id": "view-in-github",
        "colab_type": "text"
      },
      "source": [
        "[View in Colaboratory](https://colab.research.google.com/github/brucecmd/learn_gluon/blob/master/softmax_classification.ipynb)"
      ]
    },
    {
      "metadata": {
        "id": "AmmhCI_nUtxv",
        "colab_type": "code",
        "colab": {
          "base_uri": "https://localhost:8080/",
          "height": 235
        },
        "outputId": "c1cac542-8345-4974-b7db-ab48ac0a2141"
      },
      "cell_type": "code",
      "source": [
        "!pip install mxnet-cu80"
      ],
      "execution_count": 3,
      "outputs": [
        {
          "output_type": "stream",
          "text": [
            "Collecting mxnet-cu80\n",
            "\u001b[?25l  Downloading https://files.pythonhosted.org/packages/f6/6c/566a1d4b8b1005b7d9ccfaecd7632f6dca596246f6657827b2d4e97c72c7/mxnet_cu80-1.2.1-py2.py3-none-manylinux1_x86_64.whl (299.1MB)\n",
            "\u001b[K    100% |████████████████████████████████| 299.1MB 76kB/s \n",
            "\u001b[?25hRequirement already satisfied: numpy<1.15.0,>=1.8.2 in /usr/local/lib/python3.6/dist-packages (from mxnet-cu80) (1.14.5)\n",
            "Requirement already satisfied: requests<2.19.0,>=2.18.4 in /usr/local/lib/python3.6/dist-packages (from mxnet-cu80) (2.18.4)\n",
            "Collecting graphviz<0.9.0,>=0.8.1 (from mxnet-cu80)\n",
            "  Downloading https://files.pythonhosted.org/packages/53/39/4ab213673844e0c004bed8a0781a0721a3f6bb23eb8854ee75c236428892/graphviz-0.8.4-py2.py3-none-any.whl\n",
            "Requirement already satisfied: certifi>=2017.4.17 in /usr/local/lib/python3.6/dist-packages (from requests<2.19.0,>=2.18.4->mxnet-cu80) (2018.4.16)\n",
            "Requirement already satisfied: urllib3<1.23,>=1.21.1 in /usr/local/lib/python3.6/dist-packages (from requests<2.19.0,>=2.18.4->mxnet-cu80) (1.22)\n",
            "Requirement already satisfied: idna<2.7,>=2.5 in /usr/local/lib/python3.6/dist-packages (from requests<2.19.0,>=2.18.4->mxnet-cu80) (2.6)\n",
            "Requirement already satisfied: chardet<3.1.0,>=3.0.2 in /usr/local/lib/python3.6/dist-packages (from requests<2.19.0,>=2.18.4->mxnet-cu80) (3.0.4)\n",
            "Installing collected packages: graphviz, mxnet-cu80\n",
            "Successfully installed graphviz-0.8.4 mxnet-cu80-1.2.1\n"
          ],
          "name": "stdout"
        }
      ]
    },
    {
      "metadata": {
        "id": "DmfqR2xFWltz",
        "colab_type": "code",
        "colab": {}
      },
      "cell_type": "code",
      "source": [
        "from mxnet.gluon import data as gdata"
      ],
      "execution_count": 0,
      "outputs": []
    },
    {
      "metadata": {
        "id": "L0c0ptr8WzhW",
        "colab_type": "code",
        "colab": {}
      },
      "cell_type": "code",
      "source": [
        "mnist_train = gdata.vision.FashionMNIST(train=True)\n",
        "mnist_test = gdata.vision.FashionMNIST(train=False)"
      ],
      "execution_count": 0,
      "outputs": []
    },
    {
      "metadata": {
        "id": "dTc5g0tCW6ON",
        "colab_type": "code",
        "colab": {}
      },
      "cell_type": "code",
      "source": [
        "transformer = gdata.vision.transforms.ToTensor()"
      ],
      "execution_count": 0,
      "outputs": []
    },
    {
      "metadata": {
        "id": "0qxafLP9XGH9",
        "colab_type": "code",
        "colab": {}
      },
      "cell_type": "code",
      "source": [
        "batch_size = 256\n",
        "train_iter = gdata.DataLoader(mnist_train.transform_first(transformer), batch_size, shuffle=True)\n",
        "test_iter = gdata.DataLoader(mnist_test.transform_first(transformer), batch_size, shuffle=True)"
      ],
      "execution_count": 0,
      "outputs": []
    },
    {
      "metadata": {
        "id": "lh8keD45XRp1",
        "colab_type": "code",
        "colab": {}
      },
      "cell_type": "code",
      "source": [
        "from mxnet import nd, autograd"
      ],
      "execution_count": 0,
      "outputs": []
    },
    {
      "metadata": {
        "id": "Amtaz_4nXzn-",
        "colab_type": "code",
        "colab": {}
      },
      "cell_type": "code",
      "source": [
        "num_inputs = 28 * 28\n",
        "num_outputs = 10\n",
        "w = nd.random_normal(0,1,shape=(num_inputs, num_outputs))\n",
        "b = nd.zeros(num_outputs)\n",
        "params = [w,b]\n",
        "for p in params:\n",
        "    p.attach_grad()"
      ],
      "execution_count": 0,
      "outputs": []
    },
    {
      "metadata": {
        "id": "uqD7V20KZZRP",
        "colab_type": "code",
        "colab": {}
      },
      "cell_type": "code",
      "source": [
        "def softmax(x):\n",
        "    exp_value = nd.exp(x)\n",
        "    partition = exp_value.sum(axis=1, keepdims=True)\n",
        "    return exp_value / partition"
      ],
      "execution_count": 0,
      "outputs": []
    },
    {
      "metadata": {
        "id": "wrPWgjN6ZmnG",
        "colab_type": "code",
        "colab": {}
      },
      "cell_type": "code",
      "source": [
        "def net(x):\n",
        "    return softmax(nd.dot(x.reshape(-1,num_inputs),w) + b)"
      ],
      "execution_count": 0,
      "outputs": []
    },
    {
      "metadata": {
        "id": "kb6v18VNZuQt",
        "colab_type": "code",
        "colab": {}
      },
      "cell_type": "code",
      "source": [
        "def loss_func(y, y_hat):\n",
        "    return - nd.pick(y_hat.log(), y)"
      ],
      "execution_count": 0,
      "outputs": []
    },
    {
      "metadata": {
        "id": "SEAdBs25Z2Ds",
        "colab_type": "code",
        "colab": {}
      },
      "cell_type": "code",
      "source": [
        "from mxnet import gluon"
      ],
      "execution_count": 0,
      "outputs": []
    },
    {
      "metadata": {
        "id": "DAESOgWFZ5nt",
        "colab_type": "code",
        "colab": {}
      },
      "cell_type": "code",
      "source": [
        "def sgd(params, batch_size, lr):\n",
        "    for p in params:\n",
        "        p[:] -= p.grad * lr / batch_size"
      ],
      "execution_count": 0,
      "outputs": []
    },
    {
      "metadata": {
        "id": "zBZZMlCMaCV0",
        "colab_type": "code",
        "colab": {
          "base_uri": "https://localhost:8080/",
          "height": 185
        },
        "outputId": "6094464f-4568-4b44-cedf-726266a4c1fb"
      },
      "cell_type": "code",
      "source": [
        "def accuracy(y, y_hat):\n",
        "    return (y_hat.argmax(axis=1)==y.astype('float32')).mean().asscalar()\n",
        "    \n",
        "def evaluate_accuracy(data_iter, net):\n",
        "    acc = 0\n",
        "    for feature, data in data_iter:\n",
        "        acc += accuracy(data, net(feature))\n",
        "    return acc / len(data_iter)\n",
        "  \n",
        "epochs = 10\n",
        "batch_size = 256\n",
        "lr = 0.1\n",
        "for i in range(epochs):\n",
        "    for feature, label in train_iter:\n",
        "        with autograd.record():\n",
        "            y_hat = net(feature)\n",
        "            l = loss_func(label, y_hat)\n",
        "            #print(label.shape)\n",
        "            #print(y_hat.shape)\n",
        "        l.backward()\n",
        "        sgd(params, batch_size, lr)\n",
        "    test_acc = evaluate_accuracy(test_iter, net)\n",
        "    train_acc = evaluate_accuracy(train_iter,net)\n",
        "    print('epoch %d, train acc[%f], test acc [%f]'%(i, train_acc, test_acc))"
      ],
      "execution_count": 79,
      "outputs": [
        {
          "output_type": "stream",
          "text": [
            "epoch 0, train acc[0.583023], test acc [0.584180]\n",
            "epoch 1, train acc[0.645479], test acc [0.648926]\n",
            "epoch 2, train acc[0.685888], test acc [0.686426]\n",
            "epoch 3, train acc[0.707829], test acc [0.711621]\n",
            "epoch 4, train acc[0.722606], test acc [0.721875]\n",
            "epoch 5, train acc[0.733721], test acc [0.733008]\n",
            "epoch 6, train acc[0.744243], test acc [0.747266]\n",
            "epoch 7, train acc[0.749540], test acc [0.751660]\n",
            "epoch 8, train acc[0.757691], test acc [0.762988]\n",
            "epoch 9, train acc[0.761015], test acc [0.763867]\n"
          ],
          "name": "stdout"
        }
      ]
    },
    {
      "metadata": {
        "id": "IVqqiAkpukUk",
        "colab_type": "code",
        "colab": {}
      },
      "cell_type": "code",
      "source": [
        ""
      ],
      "execution_count": 0,
      "outputs": []
    }
  ]
}