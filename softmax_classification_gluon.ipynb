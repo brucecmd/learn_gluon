{
  "nbformat": 4,
  "nbformat_minor": 0,
  "metadata": {
    "colab": {
      "name": "softmax_classification_gluon.ipynb",
      "version": "0.3.2",
      "provenance": [],
      "collapsed_sections": [],
      "include_colab_link": true
    },
    "kernelspec": {
      "name": "python3",
      "display_name": "Python 3"
    },
    "accelerator": "GPU"
  },
  "cells": [
    {
      "cell_type": "markdown",
      "metadata": {
        "id": "view-in-github",
        "colab_type": "text"
      },
      "source": [
        "[View in Colaboratory](https://colab.research.google.com/github/brucecmd/learn_gluon/blob/master/softmax_classification_gluon.ipynb)"
      ]
    },
    {
      "metadata": {
        "id": "ObENL6eefrE_",
        "colab_type": "code",
        "colab": {}
      },
      "cell_type": "code",
      "source": [
        "from mxnet import nd, autograd\n",
        "from mxnet.gluon import data as gdata\n",
        "from mxnet.gluon import loss as gloss\n",
        "from mxnet import gluon"
      ],
      "execution_count": 0,
      "outputs": []
    },
    {
      "metadata": {
        "id": "fgIrnkSwfsPR",
        "colab_type": "code",
        "colab": {}
      },
      "cell_type": "code",
      "source": [
        "# load data from gluon.data\n",
        "mnist_train = gdata.vision.FashionMNIST(train=True)\n",
        "mnist_test = gdata.vision.FashionMNIST(train=False)"
      ],
      "execution_count": 0,
      "outputs": []
    },
    {
      "metadata": {
        "id": "sTZuhyEyuv4w",
        "colab_type": "code",
        "colab": {}
      },
      "cell_type": "code",
      "source": [
        "# prepare data iter\n",
        "batch_size = 256\n",
        "transformer = gdata.vision.transforms.ToTensor()\n",
        "train_iter = gdata.DataLoader(mnist_train.transform_first(transformer), batch_size, shuffle=True)\n",
        "test_iter = gdata.DataLoader(mnist_test.transform_first(transformer), batch_size, shuffle=True)"
      ],
      "execution_count": 0,
      "outputs": []
    },
    {
      "metadata": {
        "id": "3sSVw0kvvKLn",
        "colab_type": "code",
        "colab": {}
      },
      "cell_type": "code",
      "source": [
        "from mxnet.gluon import nn\n"
      ],
      "execution_count": 0,
      "outputs": []
    },
    {
      "metadata": {
        "id": "xE8xdQBYvgkA",
        "colab_type": "code",
        "colab": {}
      },
      "cell_type": "code",
      "source": [
        "# define net structure\n",
        "net = nn.Sequential()\n",
        "net.add(nn.Flatten())\n",
        "net.add(nn.Dense(10)) # 10 outputs. You can ignore the inputs num"
      ],
      "execution_count": 0,
      "outputs": []
    },
    {
      "metadata": {
        "id": "0whoV9KVv2nY",
        "colab_type": "code",
        "colab": {}
      },
      "cell_type": "code",
      "source": [
        "# initial the parameter\n",
        "from mxnet import init\n",
        "net.initialize(init.Normal(sigma=0.01))"
      ],
      "execution_count": 0,
      "outputs": []
    },
    {
      "metadata": {
        "id": "S6FGd3o6wFF_",
        "colab_type": "code",
        "colab": {}
      },
      "cell_type": "code",
      "source": [
        "# define the loss function\n",
        "loss_func = gloss.SoftmaxCrossEntropyLoss()"
      ],
      "execution_count": 0,
      "outputs": []
    },
    {
      "metadata": {
        "id": "chmlvKFxwPBI",
        "colab_type": "code",
        "colab": {}
      },
      "cell_type": "code",
      "source": [
        "# define the trainer\n",
        "batch_size = 256\n",
        "trainer = gluon.Trainer(net.collect_params(), 'sgd', {'learning_rate':0.01})"
      ],
      "execution_count": 0,
      "outputs": []
    },
    {
      "metadata": {
        "id": "LJtEXq4Pw65Y",
        "colab_type": "code",
        "colab": {}
      },
      "cell_type": "code",
      "source": [
        "# define accuracy func\n",
        "def accuracy(y, y_hat):\n",
        "    return (y_hat.argmax(axis=1)==y.astype('float32')).mean().asscalar()\n",
        "\n",
        "# estimate accuracy\n",
        "def estimate_accuracy(data_iter, net):\n",
        "    acc = 0\n",
        "    for data, label in data_iter:\n",
        "        acc += accuracy(label, net(data))\n",
        "    return acc / len(data_iter)"
      ],
      "execution_count": 0,
      "outputs": []
    },
    {
      "metadata": {
        "id": "Kljz8-P4zHoY",
        "colab_type": "code",
        "colab": {
          "base_uri": "https://localhost:8080/",
          "height": 185
        },
        "outputId": "3a1ac2c8-8191-4d17-cdf8-214497eaa616"
      },
      "cell_type": "code",
      "source": [
        "# now train and test\n",
        "epochs = 10\n",
        "for i in range(epochs):\n",
        "    for feature, label in train_iter:\n",
        "        with autograd.record():\n",
        "            y_hat = net(feature)\n",
        "            l = loss_func(y_hat, label) # attention!!! The first argument is y_hat, the second is label, do not reverse it.\n",
        "        l.backward()\n",
        "        trainer.step(batch_size)\n",
        "    train_acc = estimate_accuracy(train_iter, net)\n",
        "    test_acc = estimate_accuracy(test_iter, net)\n",
        "    print('epoch [%d, train accuracy[%f], test accuracy[%f]'%(i, train_acc, test_acc))"
      ],
      "execution_count": 123,
      "outputs": [
        {
          "output_type": "stream",
          "text": [
            "epoch [0, train accuracy[0.688348], test accuracy[0.690527]\n",
            "epoch [1, train accuracy[0.739744], test accuracy[0.737988]\n",
            "epoch [2, train accuracy[0.759469], test accuracy[0.760156]\n",
            "epoch [3, train accuracy[0.770872], test accuracy[0.768750]\n",
            "epoch [4, train accuracy[0.782691], test accuracy[0.784668]\n",
            "epoch [5, train accuracy[0.790653], test accuracy[0.791406]\n",
            "epoch [6, train accuracy[0.795191], test accuracy[0.793750]\n",
            "epoch [7, train accuracy[0.799767], test accuracy[0.800195]\n",
            "epoch [8, train accuracy[0.803341], test accuracy[0.808203]\n",
            "epoch [9, train accuracy[0.806521], test accuracy[0.809961]\n"
          ],
          "name": "stdout"
        }
      ]
    },
    {
      "metadata": {
        "id": "5Eb23vN7zsuP",
        "colab_type": "code",
        "colab": {}
      },
      "cell_type": "code",
      "source": [
        ""
      ],
      "execution_count": 0,
      "outputs": []
    }
  ]
}